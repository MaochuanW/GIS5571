{
 "cells": [
  {
   "cell_type": "markdown",
   "metadata": {},
   "source": [
    "## Welcome to your notebook.\n"
   ]
  },
  {
   "cell_type": "markdown",
   "metadata": {},
   "source": [
    "#### Run this cell to connect to your GIS and get started:"
   ]
  },
  {
   "cell_type": "code",
   "execution_count": 1,
   "metadata": {},
   "outputs": [
    {
     "name": "stderr",
     "output_type": "stream",
     "text": [
      "/opt/conda/lib/python3.9/site-packages/arcgis/gis/__init__.py:597: UserWarning: You are logged on as wang8837_UMN with an administrator role, proceed with caution.\n",
      "  warnings.warn(\n"
     ]
    }
   ],
   "source": [
    "from arcgis.gis import GIS\n",
    "gis = GIS(\"home\")"
   ]
  },
  {
   "cell_type": "markdown",
   "metadata": {},
   "source": [
    "#### Now you are ready to start!"
   ]
  },
  {
   "cell_type": "code",
   "execution_count": null,
   "metadata": {},
   "outputs": [],
   "source": []
  },
  {
   "cell_type": "code",
   "execution_count": 2,
   "metadata": {},
   "outputs": [
    {
     "data": {
      "text/html": [
       "<div class=\"item_container\" style=\"height: auto; overflow: hidden; border: 1px solid #cfcfcf; border-radius: 2px; background: #f6fafa; line-height: 1.21429em; padding: 10px;\">\n",
       "                    <div class=\"item_left\" style=\"width: 210px; float: left;\">\n",
       "                       <a href='https://www.arcgis.com/home/item.html?id=f130861fd413433cb417f5650496a2af' target='_blank'>\n",
       "                        <img src='data:image/png;base64,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' width='200' height='133' class=\"itemThumbnail\">\n",
       "                       </a>\n",
       "                    </div>\n",
       "\n",
       "                    <div class=\"item_right\"     style=\"float: none; width: auto; overflow: hidden;\">\n",
       "                        <a href='https://www.arcgis.com/home/item.html?id=f130861fd413433cb417f5650496a2af' target='_blank'><b>East_Bank_Road</b>\n",
       "                        </a>\n",
       "                        <br/>REQUIRED: A summary of the intentions with which the data set was developed.<img src='https://www.arcgis.com/home/js/jsapi/esri/css/images/item_type_icons/featureshosted16.png' style=\"vertical-align:middle;\">Feature Layer Collection by wang8837_UMN\n",
       "                        <br/>Last Modified: September 21, 2022\n",
       "                        <br/>0 comments, 4 views\n",
       "                    </div>\n",
       "                </div>\n",
       "                "
      ],
      "text/plain": [
       "<Item title:\"East_Bank_Road\" type:Feature Layer Collection owner:wang8837_UMN>"
      ]
     },
     "execution_count": 2,
     "metadata": {},
     "output_type": "execute_result"
    }
   ],
   "source": [
    "# Item Added From Toolbar\n",
    "# Title: East_Bank_Road | Type: Feature Service | Owner: wang8837_UMN\n",
    "item = gis.content.get(\"f130861fd413433cb417f5650496a2af\")\n",
    "item"
   ]
  },
  {
   "cell_type": "code",
   "execution_count": null,
   "metadata": {},
   "outputs": [],
   "source": []
  },
  {
   "cell_type": "code",
   "execution_count": 4,
   "metadata": {},
   "outputs": [
    {
     "data": {
      "text/html": [
       "<div class=\"item_container\" style=\"height: auto; overflow: hidden; border: 1px solid #cfcfcf; border-radius: 2px; background: #f6fafa; line-height: 1.21429em; padding: 10px;\">\n",
       "                    <div class=\"item_left\" style=\"width: 210px; float: left;\">\n",
       "                       <a href='https://www.arcgis.com/home/item.html?id=463a1ba44dfc4cab8c4719b1bff7eb10' target='_blank'>\n",
       "                        <img src='http://static.arcgis.com/images/desktopapp.png' class=\"itemThumbnail\">\n",
       "                       </a>\n",
       "                    </div>\n",
       "\n",
       "                    <div class=\"item_right\"     style=\"float: none; width: auto; overflow: hidden;\">\n",
       "                        <a href='https://www.arcgis.com/home/item.html?id=463a1ba44dfc4cab8c4719b1bff7eb10' target='_blank'><b>Buffered_Road_2</b>\n",
       "                        </a>\n",
       "                        <br/><img src='https://www.arcgis.com/home/js/jsapi/esri/css/images/item_type_icons/featureshosted16.png' style=\"vertical-align:middle;\">Feature Layer Collection by wang8837_UMN\n",
       "                        <br/>Last Modified: September 21, 2022\n",
       "                        <br/>0 comments, 0 views\n",
       "                    </div>\n",
       "                </div>\n",
       "                "
      ],
      "text/plain": [
       "<Item title:\"Buffered_Road_2\" type:Feature Layer Collection owner:wang8837_UMN>"
      ]
     },
     "execution_count": 4,
     "metadata": {},
     "output_type": "execute_result"
    }
   ],
   "source": [
    "from arcgis import features\n",
    "features.use_proximity.create_buffers(item, distances=[30], field=None, units='Meters', dissolve_type='None', ring_type='Disks', side_type='Full', end_type='Round', output_name='Buffered_Road_2', context=None, gis=None, estimate=False, future=False)"
   ]
  },
  {
   "cell_type": "code",
   "execution_count": null,
   "metadata": {},
   "outputs": [],
   "source": []
  }
 ],
 "metadata": {
  "esriNotebookRuntime": {
   "notebookRuntimeName": "ArcGIS Notebook Python 3 Standard",
   "notebookRuntimeVersion": "7.0"
  },
  "kernelspec": {
   "display_name": "Python 3 (ipykernel)",
   "language": "python",
   "name": "python3"
  },
  "language_info": {
   "codemirror_mode": {
    "name": "ipython",
    "version": 3
   },
   "file_extension": ".py",
   "mimetype": "text/x-python",
   "name": "python",
   "nbconvert_exporter": "python",
   "pygments_lexer": "ipython3",
   "version": "3.9.11"
  }
 },
 "nbformat": 4,
 "nbformat_minor": 2
}
