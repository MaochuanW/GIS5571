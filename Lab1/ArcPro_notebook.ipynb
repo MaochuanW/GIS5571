{
 "cells": [
  {
   "cell_type": "code",
   "execution_count": 2,
   "metadata": {},
   "outputs": [],
   "source": [
    "import arcpy\n",
    "import requests\n",
    "import zipfile\n",
    "import io\n",
    "import shutil\n",
    "import os\n",
    "import pandas as pd\n",
    "import json\n",
    "import csv\n",
    "import fiona\n",
    "import geopandas as gpd"
   ]
  },
  {
   "cell_type": "code",
   "execution_count": 6,
   "metadata": {},
   "outputs": [],
   "source": [
    "arcpy.env.workspace = r'C:\\Users\\wang1\\Documents\\ArcGIS\\Projects\\lab1\\lab1.gdb'"
   ]
  },
  {
   "cell_type": "code",
   "execution_count": 7,
   "metadata": {},
   "outputs": [
    {
     "data": {
      "text/plain": [
       "'C:\\\\Users\\\\wang1\\\\Documents\\\\ArcGIS\\\\Projects\\\\lab1\\\\lab1.gdb'"
      ]
     },
     "execution_count": 7,
     "metadata": {},
     "output_type": "execute_result"
    }
   ],
   "source": [
    "arcpy.env.workspace"
   ]
  },
  {
   "cell_type": "markdown",
   "metadata": {},
   "source": [
    "# Minnesota Geocommon data"
   ]
  },
  {
   "cell_type": "code",
   "execution_count": 8,
   "metadata": {},
   "outputs": [],
   "source": [
    "def retrieve_data(download_link):\n",
    "    output = requests.post(download_link)\n",
    "    slashstuff = output.content\n",
    "    zipp = zipfile.ZipFile(io.BytesIO(slashstuff))\n",
    "    zipp.extractall(r'C:\\Users\\wang1\\Documents\\ArcGIS\\Projects\\lab1')"
   ]
  },
  {
   "cell_type": "code",
   "execution_count": 16,
   "metadata": {},
   "outputs": [],
   "source": [
    "download_link1 = r'https://resources.gisdata.mn.gov/pub/gdrs/data/pub/us_mn_state_pca/env_mpca_agency_interests/csv_env_mpca_agency_interests.zip'\n",
    "download_link2 = r'https://resources.gisdata.mn.gov/pub/gdrs/data/pub/us_mn_state_pca/env_institutional_controls/csv_env_institutional_controls.zip'\n",
    "\n",
    "retrieve_data(download_link1)\n",
    "retrieve_data(download_link2)"
   ]
  },
  {
   "cell_type": "markdown",
   "metadata": {},
   "source": [
    "Transform data "
   ]
  },
  {
   "cell_type": "code",
   "execution_count": 17,
   "metadata": {},
   "outputs": [
    {
     "data": {
      "text/html": [
       "<div class='gpresult'><h2>Messages</h2><div id='messages' data-messages='[\"Start Time: Sunday, October 2, 2022 11:31:30 PM\",\"WARNING 120251: The following fields are not supported and will be dropped: shape\",\"Succeeded at Sunday, October 2, 2022 11:31:38 PM (Elapsed Time: 7.66 seconds)\"]' data-show='true'><div id = 'default' /></div></div>"
      ],
      "text/plain": [
       "<Result 'C:\\\\Users\\\\wang1\\\\Documents\\\\ArcGIS\\\\Projects\\\\lab1\\\\lab1.gdb\\\\mpca_agency_interests_XYTableToPoint2'>"
      ]
     },
     "execution_count": 17,
     "metadata": {},
     "output_type": "execute_result"
    }
   ],
   "source": [
    "arcpy.management.XYTableToPoint(\"mpca_agency_interests.csv\", r\"C:\\Users\\wang1\\Documents\\ArcGIS\\Projects\\lab1\\lab1.gdb\\mpca_agency_interests_XYTableToPoint2\", \"longitude\", \"latitude\", None, 'GEOGCS[\"GCS_WGS_1984\",DATUM[\"D_WGS_1984\",SPHEROID[\"WGS_1984\",6378137.0,298.257223563]],PRIMEM[\"Greenwich\",0.0],UNIT[\"Degree\",0.0174532925199433]];-400 -400 1000000000;-100000 10000;-100000 10000;8.98315284119521E-09;0.001;0.001;IsHighPrecision')"
   ]
  },
  {
   "cell_type": "code",
   "execution_count": 18,
   "metadata": {},
   "outputs": [
    {
     "data": {
      "text/html": [
       "<div class='gpresult'><h2>Messages</h2><div id='messages' data-messages='[\"Start Time: Sunday, October 2, 2022 11:32:48 PM\",\"WARNING 120251: The following fields are not supported and will be dropped: shape\",\"Succeeded at Sunday, October 2, 2022 11:32:50 PM (Elapsed Time: 1.56 seconds)\"]' data-show='true'><div id = 'default' /></div></div>"
      ],
      "text/plain": [
       "<Result 'C:\\\\Users\\\\wang1\\\\Documents\\\\ArcGIS\\\\Projects\\\\lab1\\\\lab1.gdb\\\\institutional_controls_XYTableToPoint'>"
      ]
     },
     "execution_count": 18,
     "metadata": {},
     "output_type": "execute_result"
    }
   ],
   "source": [
    "arcpy.management.XYTableToPoint(\"institutional_controls.csv\", r\"C:\\Users\\wang1\\Documents\\ArcGIS\\Projects\\lab1\\lab1.gdb\\institutional_controls_XYTableToPoint\", \"longitude\", \"latitude\", None, 'GEOGCS[\"GCS_WGS_1984\",DATUM[\"D_WGS_1984\",SPHEROID[\"WGS_1984\",6378137.0,298.257223563]],PRIMEM[\"Greenwich\",0.0],UNIT[\"Degree\",0.0174532925199433]];-400 -400 1000000000;-100000 10000;-100000 10000;8.98315284119521E-09;0.001;0.001;IsHighPrecision')"
   ]
  },
  {
   "cell_type": "code",
   "execution_count": 19,
   "metadata": {},
   "outputs": [
    {
     "data": {
      "text/html": [
       "<div class='gpresult'><h2>Messages</h2><div id='messages' data-messages='[\"Start Time: Sunday, October 2, 2022 11:41:49 PM\",\"Succeeded at Sunday, October 2, 2022 11:41:52 PM (Elapsed Time: 3.25 seconds)\"]' data-show='true'><div id = 'default' /></div></div>"
      ],
      "text/plain": [
       "<Result 'C:\\\\Users\\\\wang1\\\\Documents\\\\ArcGIS\\\\Projects\\\\lab1\\\\lab1.gdb\\\\mpca_agency_interest_Project'>"
      ]
     },
     "execution_count": 19,
     "metadata": {},
     "output_type": "execute_result"
    }
   ],
   "source": [
    "arcpy.management.Project(\"mpca_agency_interests_XYTableToPoint2\", r\"C:\\Users\\wang1\\Documents\\ArcGIS\\Projects\\lab1\\lab1.gdb\\mpca_agency_interest_Project\", 'GEOGCS[\"GCS_WGS_1984\",DATUM[\"D_WGS_1984\",SPHEROID[\"WGS_1984\",6378137.0,298.257223563]],PRIMEM[\"Greenwich\",0.0],UNIT[\"Degree\",0.0174532925199433]]', None, 'GEOGCS[\"GCS_WGS_1984\",DATUM[\"D_WGS_1984\",SPHEROID[\"WGS_1984\",6378137.0,298.257223563]],PRIMEM[\"Greenwich\",0.0],UNIT[\"Degree\",0.0174532925199433]]', \"NO_PRESERVE_SHAPE\", None, \"NO_VERTICAL\")"
   ]
  },
  {
   "cell_type": "code",
   "execution_count": 20,
   "metadata": {},
   "outputs": [
    {
     "data": {
      "text/html": [
       "<div class='gpresult'><h2>Messages</h2><div id='messages' data-messages='[\"Start Time: Sunday, October 2, 2022 11:42:28 PM\",\"Succeeded at Sunday, October 2, 2022 11:42:28 PM (Elapsed Time: 0.45 seconds)\"]' data-show='true'><div id = 'default' /></div></div>"
      ],
      "text/plain": [
       "<Result 'C:\\\\Users\\\\wang1\\\\Documents\\\\ArcGIS\\\\Projects\\\\lab1\\\\lab1.gdb\\\\institutional_contro_Project1'>"
      ]
     },
     "execution_count": 20,
     "metadata": {},
     "output_type": "execute_result"
    }
   ],
   "source": [
    "arcpy.management.Project(\"institutional_controls_XYTableToPoint\", r\"C:\\Users\\wang1\\Documents\\ArcGIS\\Projects\\lab1\\lab1.gdb\\institutional_contro_Project1\", 'GEOGCS[\"GCS_WGS_1984\",DATUM[\"D_WGS_1984\",SPHEROID[\"WGS_1984\",6378137.0,298.257223563]],PRIMEM[\"Greenwich\",0.0],UNIT[\"Degree\",0.0174532925199433]]', None, 'GEOGCS[\"GCS_WGS_1984\",DATUM[\"D_WGS_1984\",SPHEROID[\"WGS_1984\",6378137.0,298.257223563]],PRIMEM[\"Greenwich\",0.0],UNIT[\"Degree\",0.0174532925199433]]', \"NO_PRESERVE_SHAPE\", None, \"NO_VERTICAL\")"
   ]
  },
  {
   "cell_type": "markdown",
   "metadata": {},
   "source": [
    "Spatial Join"
   ]
  },
  {
   "cell_type": "code",
   "execution_count": 21,
   "metadata": {},
   "outputs": [
    {
     "data": {
      "text/html": [
       "<div class='gpresult'><h2>Messages</h2><div id='messages' data-messages='[\"Start Time: Sunday, October 2, 2022 11:46:12 PM\",\"Succeeded at Sunday, October 2, 2022 11:46:12 PM (Elapsed Time: 0.57 seconds)\"]' data-show='true'><div id = 'default' /></div></div>"
      ],
      "text/plain": [
       "<Result 'C:\\\\Users\\\\wang1\\\\Documents\\\\ArcGIS\\\\Projects\\\\lab1\\\\lab1.gdb\\\\institutional_co_SpatialJoin'>"
      ]
     },
     "execution_count": 21,
     "metadata": {},
     "output_type": "execute_result"
    }
   ],
   "source": [
    "arcpy.analysis.SpatialJoin(\"institutional_contro_Project1\", \"mpca_agency_interest_Project\", r\"C:\\Users\\wang1\\Documents\\ArcGIS\\Projects\\lab1\\lab1.gdb\\institutional_co_SpatialJoin\", \"JOIN_ONE_TO_ONE\", \"KEEP_ALL\", 'objectid \"objectid\" true true false 4 Long 0 0,First,#,institutional_contro_Project1,objectid,-1,-1;item_id \"item_id\" true true false 8000 Text 0 0,First,#,institutional_contro_Project1,item_id,0,8000;ai_id \"ai_id\" true true false 4 Long 0 0,First,#,institutional_contro_Project1,ai_id,-1,-1;int_doc_id \"int_doc_id\" true true false 4 Long 0 0,First,#,institutional_contro_Project1,int_doc_id,-1,-1;si_type \"si_type\" true true false 8000 Text 0 0,First,#,institutional_contro_Project1,si_type,0,8000;si_cat \"si_cat\" true true false 8000 Text 0 0,First,#,institutional_contro_Project1,si_cat,0,8000;si_id \"si_id\" true true false 4 Long 0 0,First,#,institutional_contro_Project1,si_id,-1,-1;si_cat_desc \"si_cat_desc\" true true false 8000 Text 0 0,First,#,institutional_contro_Project1,si_cat_desc,0,8000;si_type_desc \"si_type_desc\" true true false 8000 Text 0 0,First,#,institutional_contro_Project1,si_type_desc,0,8000;ai_name \"ai_name\" true true false 8000 Text 0 0,First,#,institutional_contro_Project1,ai_name,0,8000;ai_program \"ai_program\" true true false 8000 Text 0 0,First,#,institutional_contro_Project1,ai_program,0,8000;ai_prg_code \"ai_prg_code\" true true false 8000 Text 0 0,First,#,institutional_contro_Project1,ai_prg_code,0,8000;ic_site_type \"ic_site_type\" true true false 8000 Text 0 0,First,#,institutional_contro_Project1,ic_site_type,0,8000;ic_id \"ic_id\" true true false 8000 Text 0 0,First,#,institutional_contro_Project1,ic_id,0,8000;ic_name \"ic_name\" true true false 8000 Text 0 0,First,#,institutional_contro_Project1,ic_name,0,8000;control_type \"control_type\" true true false 8000 Text 0 0,First,#,institutional_contro_Project1,control_type,0,8000;acreage \"acreage\" true true false 8 Double 0 0,First,#,institutional_contro_Project1,acreage,-1,-1;parcel_list \"parcel_list\" true true false 8000 Text 0 0,First,#,institutional_contro_Project1,parcel_list,0,8000;bond_apprp_id \"bond_apprp_id\" true true false 8000 Text 0 0,First,#,institutional_contro_Project1,bond_apprp_id,0,8000;ic_recording_num \"ic_recording_num\" true true false 8000 Text 0 0,First,#,institutional_contro_Project1,ic_recording_num,0,8000;inspection_reqd_flag \"inspection_reqd_flag\" true true false 8000 Text 0 0,First,#,institutional_contro_Project1,inspection_reqd_flag,0,8000;ic_signed \"ic_signed\" true true false 8 Date 0 0,First,#,institutional_contro_Project1,ic_signed,-1,-1;ic_recorded \"ic_recorded\" true true false 8 Date 0 0,First,#,institutional_contro_Project1,ic_recorded,-1,-1;ic_terminated \"ic_terminated\" true true false 8000 Text 0 0,First,#,institutional_contro_Project1,ic_terminated,0,8000;count_inspections \"count_inspections\" true true false 4 Long 0 0,First,#,institutional_contro_Project1,count_inspections,-1,-1;last_inspection \"last_inspection\" true true false 8 Date 0 0,First,#,institutional_contro_Project1,last_inspection,-1,-1;comments \"comments\" true true false 8000 Text 0 0,First,#,institutional_contro_Project1,comments,0,8000;address1 \"address1\" true true false 8000 Text 0 0,First,#,institutional_contro_Project1,address1,0,8000;address2 \"address2\" true true false 8000 Text 0 0,First,#,institutional_contro_Project1,address2,0,8000;city_name \"city_name\" true true false 8000 Text 0 0,First,#,institutional_contro_Project1,city_name,0,8000;state_code \"state_code\" true true false 8000 Text 0 0,First,#,institutional_contro_Project1,state_code,0,8000;zip_code \"zip_code\" true true false 4 Long 0 0,First,#,institutional_contro_Project1,zip_code,-1,-1;county_name \"county_name\" true true false 8000 Text 0 0,First,#,institutional_contro_Project1,county_name,0,8000;county_code \"county_code\" true true false 4 Long 0 0,First,#,institutional_contro_Project1,county_code,-1,-1;ctu_code \"ctu_code\" true true false 4 Long 0 0,First,#,institutional_contro_Project1,ctu_code,-1,-1;ctu_name \"ctu_name\" true true false 8000 Text 0 0,First,#,institutional_contro_Project1,ctu_name,0,8000;cong_dist \"cong_dist\" true true false 4 Long 0 0,First,#,institutional_contro_Project1,cong_dist,-1,-1;house_dist \"house_dist\" true true false 8000 Text 0 0,First,#,institutional_contro_Project1,house_dist,0,8000;senate_dist \"senate_dist\" true true false 4 Long 0 0,First,#,institutional_contro_Project1,senate_dist,-1,-1;huc8 \"huc8\" true true false 4 Long 0 0,First,#,institutional_contro_Project1,huc8,-1,-1;huc8_name \"huc8_name\" true true false 8000 Text 0 0,First,#,institutional_contro_Project1,huc8_name,0,8000;huc10 \"huc10\" true true false 4 Long 0 0,First,#,institutional_contro_Project1,huc10,-1,-1;huc12 \"huc12\" true true false 8 Double 0 0,First,#,institutional_contro_Project1,huc12,-1,-1;huc12_name \"huc12_name\" true true false 8000 Text 0 0,First,#,institutional_contro_Project1,huc12_name,0,8000;dwsma_code \"dwsma_code\" true true false 4 Long 0 0,First,#,institutional_contro_Project1,dwsma_code,-1,-1;dwsma_name \"dwsma_name\" true true false 8000 Text 0 0,First,#,institutional_contro_Project1,dwsma_name,0,8000;loc_desc \"loc_desc\" true true false 8000 Text 0 0,First,#,institutional_contro_Project1,loc_desc,0,8000;latitude \"latitude\" true true false 8 Double 0 0,First,#,institutional_contro_Project1,latitude,-1,-1;longitude \"longitude\" true true false 8 Double 0 0,First,#,institutional_contro_Project1,longitude,-1,-1;method_code \"method_code\" true true false 8000 Text 0 0,First,#,institutional_contro_Project1,method_code,0,8000;method_desc \"method_desc\" true true false 8000 Text 0 0,First,#,institutional_contro_Project1,method_desc,0,8000;ref_code \"ref_code\" true true false 8000 Text 0 0,First,#,institutional_contro_Project1,ref_code,0,8000;ref_desc \"ref_desc\" true true false 8000 Text 0 0,First,#,institutional_contro_Project1,ref_desc,0,8000;collection_date \"collection_date\" true true false 8 Date 0 0,First,#,institutional_contro_Project1,collection_date,-1,-1;tmsp_created \"tmsp_created\" true true false 8 Date 0 0,First,#,institutional_contro_Project1,tmsp_created,-1,-1;tmsp_updt \"tmsp_updt\" true true false 8 Date 0 0,First,#,institutional_contro_Project1,tmsp_updt,-1,-1;objectid_1 \"objectid\" true true false 4 Long 0 0,First,#,mpca_agency_interest_Project,objectid,-1,-1;item_id_1 \"item_id\" true true false 8000 Text 0 0,First,#,mpca_agency_interest_Project,item_id,0,8000;ai_id_1 \"ai_id\" true true false 4 Long 0 0,First,#,mpca_agency_interest_Project,ai_id,-1,-1;int_doc_id_1 \"int_doc_id\" true true false 4 Long 0 0,First,#,mpca_agency_interest_Project,int_doc_id,-1,-1;si_type_1 \"si_type\" true true false 8000 Text 0 0,First,#,mpca_agency_interest_Project,si_type,0,8000;si_cat_1 \"si_cat\" true true false 8000 Text 0 0,First,#,mpca_agency_interest_Project,si_cat,0,8000;si_id_1 \"si_id\" true true false 4 Long 0 0,First,#,mpca_agency_interest_Project,si_id,-1,-1;si_cat_desc_1 \"si_cat_desc\" true true false 8000 Text 0 0,First,#,mpca_agency_interest_Project,si_cat_desc,0,8000;si_type_desc_1 \"si_type_desc\" true true false 8000 Text 0 0,First,#,mpca_agency_interest_Project,si_type_desc,0,8000;description \"description\" true true false 8000 Text 0 0,First,#,mpca_agency_interest_Project,description,0,8000;si_designation \"si_designation\" true true false 8000 Text 0 0,First,#,mpca_agency_interest_Project,si_designation,0,8000;name \"name\" true true false 8000 Text 0 0,First,#,mpca_agency_interest_Project,name,0,8000;program \"program\" true true false 8000 Text 0 0,First,#,mpca_agency_interest_Project,program,0,8000;program_list \"program_list\" true true false 8000 Text 0 0,First,#,mpca_agency_interest_Project,program_list,0,8000;address \"address\" true true false 8000 Text 0 0,First,#,mpca_agency_interest_Project,address,0,8000;city \"city\" true true false 8000 Text 0 0,First,#,mpca_agency_interest_Project,city,0,8000;state \"state\" true true false 8000 Text 0 0,First,#,mpca_agency_interest_Project,state,0,8000;zip \"zip\" true true false 4 Long 0 0,First,#,mpca_agency_interest_Project,zip,-1,-1;county_code_1 \"county_code\" true true false 4 Long 0 0,First,#,mpca_agency_interest_Project,county_code,-1,-1;county \"county\" true true false 8000 Text 0 0,First,#,mpca_agency_interest_Project,county,0,8000;ctu_code_1 \"ctu_code\" true true false 4 Long 0 0,First,#,mpca_agency_interest_Project,ctu_code,-1,-1;ctu_name_1 \"ctu_name\" true true false 8000 Text 0 0,First,#,mpca_agency_interest_Project,ctu_name,0,8000;cong_dist_1 \"cong_dist\" true true false 4 Long 0 0,First,#,mpca_agency_interest_Project,cong_dist,-1,-1;house_dist_1 \"house_dist\" true true false 8000 Text 0 0,First,#,mpca_agency_interest_Project,house_dist,0,8000;senate_dist_1 \"senate_dist\" true true false 4 Long 0 0,First,#,mpca_agency_interest_Project,senate_dist,-1,-1;huc8_1 \"huc8\" true true false 4 Long 0 0,First,#,mpca_agency_interest_Project,huc8,-1,-1;huc8_name_1 \"huc8_name\" true true false 8000 Text 0 0,First,#,mpca_agency_interest_Project,huc8_name,0,8000;huc10_1 \"huc10\" true true false 4 Long 0 0,First,#,mpca_agency_interest_Project,huc10,-1,-1;huc10_name \"huc10_name\" true true false 8000 Text 0 0,First,#,mpca_agency_interest_Project,huc10_name,0,8000;huc12_1 \"huc12\" true true false 8 Double 0 0,First,#,mpca_agency_interest_Project,huc12,-1,-1;huc12_name_1 \"huc12_name\" true true false 8000 Text 0 0,First,#,mpca_agency_interest_Project,huc12_name,0,8000;dwsma_code_1 \"dwsma_code\" true true false 4 Long 0 0,First,#,mpca_agency_interest_Project,dwsma_code,-1,-1;dwsma_name_1 \"dwsma_name\" true true false 8000 Text 0 0,First,#,mpca_agency_interest_Project,dwsma_name,0,8000;loc_desc_1 \"loc_desc\" true true false 8000 Text 0 0,First,#,mpca_agency_interest_Project,loc_desc,0,8000;trdsqq \"trdsqq\" true true false 8000 Text 0 0,First,#,mpca_agency_interest_Project,trdsqq,0,8000;pls_twsp \"pls_twsp\" true true false 4 Long 0 0,First,#,mpca_agency_interest_Project,pls_twsp,-1,-1;range \"range\" true true false 4 Long 0 0,First,#,mpca_agency_interest_Project,range,-1,-1;range_dir \"range_dir\" true true false 8000 Text 0 0,First,#,mpca_agency_interest_Project,range_dir,0,8000;section \"section\" true true false 4 Long 0 0,First,#,mpca_agency_interest_Project,section,-1,-1;quarters \"quarters\" true true false 8000 Text 0 0,First,#,mpca_agency_interest_Project,quarters,0,8000;latitude_1 \"latitude\" true true false 8 Double 0 0,First,#,mpca_agency_interest_Project,latitude,-1,-1;longitude_1 \"longitude\" true true false 8 Double 0 0,First,#,mpca_agency_interest_Project,longitude,-1,-1;method_code_1 \"method_code\" true true false 8000 Text 0 0,First,#,mpca_agency_interest_Project,method_code,0,8000;method_desc_1 \"method_desc\" true true false 8000 Text 0 0,First,#,mpca_agency_interest_Project,method_desc,0,8000;ref_code_1 \"ref_code\" true true false 8000 Text 0 0,First,#,mpca_agency_interest_Project,ref_code,0,8000;ref_desc_1 \"ref_desc\" true true false 8000 Text 0 0,First,#,mpca_agency_interest_Project,ref_desc,0,8000;verified \"verified\" true true false 8000 Text 0 0,First,#,mpca_agency_interest_Project,verified,0,8000;collection_date_1 \"collection_date\" true true false 8 Date 0 0,First,#,mpca_agency_interest_Project,collection_date,-1,-1;tmsp_created_1 \"tmsp_created\" true true false 8 Date 0 0,First,#,mpca_agency_interest_Project,tmsp_created,-1,-1;user_created \"user_created\" true true false 8000 Text 0 0,First,#,mpca_agency_interest_Project,user_created,0,8000;tmsp_updt_1 \"tmsp_updt\" true true false 8 Date 0 0,First,#,mpca_agency_interest_Project,tmsp_updt,-1,-1;user_updt \"user_updt\" true true false 8000 Text 0 0,First,#,mpca_agency_interest_Project,user_updt,0,8000;status \"status\" true true false 8000 Text 0 0,First,#,mpca_agency_interest_Project,status,0,8000;status_date \"status_date\" true true false 8 Date 0 0,First,#,mpca_agency_interest_Project,status_date,-1,-1;spatial_id \"spatial_id\" true true false 4 Long 0 0,First,#,mpca_agency_interest_Project,spatial_id,-1,-1', \"INTERSECT\", None, '')"
   ]
  },
  {
   "cell_type": "markdown",
   "metadata": {},
   "source": [
    "Export feature"
   ]
  },
  {
   "cell_type": "code",
   "execution_count": 28,
   "metadata": {},
   "outputs": [
    {
     "data": {
      "text/html": [
       "<div class='gpresult'><h2>Messages</h2><div id='messages' data-messages='[\"Start Time: Monday, October 3, 2022 12:01:09 AM\",\"Succeeded at Monday, October 3, 2022 12:01:10 AM (Elapsed Time: 0.37 seconds)\"]' data-show='true'><div id = 'default' /></div></div>"
      ],
      "text/plain": [
       "<Result 'C:\\\\Users\\\\wang1\\\\Documents\\\\ArcGIS\\\\Projects\\\\lab1\\\\institutional__ExportFeature.shp'>"
      ]
     },
     "execution_count": 28,
     "metadata": {},
     "output_type": "execute_result"
    }
   ],
   "source": [
    "arcpy.conversion.ExportFeatures(\"institutional_co_SpatialJoin\", r\"C:\\Users\\wang1\\Documents\\ArcGIS\\Projects\\lab1\\institutional__ExportFeature.shp\", '', \"NOT_USE_ALIAS\", 'Join_Count \"Join_Count\" true true false 4 Long 0 0,First,#,institutional_co_SpatialJoin,Join_Count,-1,-1;TARGET_FID \"TARGET_FID\" true true false 4 Long 0 0,First,#,institutional_co_SpatialJoin,TARGET_FID,-1,-1;objectid \"objectid\" true true false 4 Long 0 0,First,#,institutional_co_SpatialJoin,objectid,-1,-1;item_id \"item_id\" true true false 8000 Text 0 0,First,#,institutional_co_SpatialJoin,item_id,0,8000;ai_id \"ai_id\" true true false 4 Long 0 0,First,#,institutional_co_SpatialJoin,ai_id,-1,-1;int_doc_id \"int_doc_id\" true true false 4 Long 0 0,First,#,institutional_co_SpatialJoin,int_doc_id,-1,-1;si_type \"si_type\" true true false 8000 Text 0 0,First,#,institutional_co_SpatialJoin,si_type,0,8000;si_cat \"si_cat\" true true false 8000 Text 0 0,First,#,institutional_co_SpatialJoin,si_cat,0,8000;si_id \"si_id\" true true false 4 Long 0 0,First,#,institutional_co_SpatialJoin,si_id,-1,-1;si_cat_desc \"si_cat_desc\" true true false 8000 Text 0 0,First,#,institutional_co_SpatialJoin,si_cat_desc,0,8000;si_type_desc \"si_type_desc\" true true false 8000 Text 0 0,First,#,institutional_co_SpatialJoin,si_type_desc,0,8000;ai_name \"ai_name\" true true false 8000 Text 0 0,First,#,institutional_co_SpatialJoin,ai_name,0,8000;ai_program \"ai_program\" true true false 8000 Text 0 0,First,#,institutional_co_SpatialJoin,ai_program,0,8000;ai_prg_code \"ai_prg_code\" true true false 8000 Text 0 0,First,#,institutional_co_SpatialJoin,ai_prg_code,0,8000;ic_site_type \"ic_site_type\" true true false 8000 Text 0 0,First,#,institutional_co_SpatialJoin,ic_site_type,0,8000;ic_id \"ic_id\" true true false 8000 Text 0 0,First,#,institutional_co_SpatialJoin,ic_id,0,8000;ic_name \"ic_name\" true true false 8000 Text 0 0,First,#,institutional_co_SpatialJoin,ic_name,0,8000;control_type \"control_type\" true true false 8000 Text 0 0,First,#,institutional_co_SpatialJoin,control_type,0,8000;acreage \"acreage\" true true false 8 Double 0 0,First,#,institutional_co_SpatialJoin,acreage,-1,-1;parcel_list \"parcel_list\" true true false 8000 Text 0 0,First,#,institutional_co_SpatialJoin,parcel_list,0,8000;bond_apprp_id \"bond_apprp_id\" true true false 8000 Text 0 0,First,#,institutional_co_SpatialJoin,bond_apprp_id,0,8000;ic_recording_num \"ic_recording_num\" true true false 8000 Text 0 0,First,#,institutional_co_SpatialJoin,ic_recording_num,0,8000;inspection_reqd_flag \"inspection_reqd_flag\" true true false 8000 Text 0 0,First,#,institutional_co_SpatialJoin,inspection_reqd_flag,0,8000;ic_signed \"ic_signed\" true true false 8 Date 0 0,First,#,institutional_co_SpatialJoin,ic_signed,-1,-1;ic_recorded \"ic_recorded\" true true false 8 Date 0 0,First,#,institutional_co_SpatialJoin,ic_recorded,-1,-1;ic_terminated \"ic_terminated\" true true false 8000 Text 0 0,First,#,institutional_co_SpatialJoin,ic_terminated,0,8000;count_inspections \"count_inspections\" true true false 4 Long 0 0,First,#,institutional_co_SpatialJoin,count_inspections,-1,-1;last_inspection \"last_inspection\" true true false 8 Date 0 0,First,#,institutional_co_SpatialJoin,last_inspection,-1,-1;comments \"comments\" true true false 8000 Text 0 0,First,#,institutional_co_SpatialJoin,comments,0,8000;address1 \"address1\" true true false 8000 Text 0 0,First,#,institutional_co_SpatialJoin,address1,0,8000;address2 \"address2\" true true false 8000 Text 0 0,First,#,institutional_co_SpatialJoin,address2,0,8000;city_name \"city_name\" true true false 8000 Text 0 0,First,#,institutional_co_SpatialJoin,city_name,0,8000;state_code \"state_code\" true true false 8000 Text 0 0,First,#,institutional_co_SpatialJoin,state_code,0,8000;zip_code \"zip_code\" true true false 4 Long 0 0,First,#,institutional_co_SpatialJoin,zip_code,-1,-1;county_name \"county_name\" true true false 8000 Text 0 0,First,#,institutional_co_SpatialJoin,county_name,0,8000;county_code \"county_code\" true true false 4 Long 0 0,First,#,institutional_co_SpatialJoin,county_code,-1,-1;ctu_code \"ctu_code\" true true false 4 Long 0 0,First,#,institutional_co_SpatialJoin,ctu_code,-1,-1;ctu_name \"ctu_name\" true true false 8000 Text 0 0,First,#,institutional_co_SpatialJoin,ctu_name,0,8000;cong_dist \"cong_dist\" true true false 4 Long 0 0,First,#,institutional_co_SpatialJoin,cong_dist,-1,-1;house_dist \"house_dist\" true true false 8000 Text 0 0,First,#,institutional_co_SpatialJoin,house_dist,0,8000;senate_dist \"senate_dist\" true true false 4 Long 0 0,First,#,institutional_co_SpatialJoin,senate_dist,-1,-1;huc8 \"huc8\" true true false 4 Long 0 0,First,#,institutional_co_SpatialJoin,huc8,-1,-1;huc8_name \"huc8_name\" true true false 8000 Text 0 0,First,#,institutional_co_SpatialJoin,huc8_name,0,8000;huc10 \"huc10\" true true false 4 Long 0 0,First,#,institutional_co_SpatialJoin,huc10,-1,-1;huc12 \"huc12\" true true false 8 Double 0 0,First,#,institutional_co_SpatialJoin,huc12,-1,-1;huc12_name \"huc12_name\" true true false 8000 Text 0 0,First,#,institutional_co_SpatialJoin,huc12_name,0,8000;dwsma_code \"dwsma_code\" true true false 4 Long 0 0,First,#,institutional_co_SpatialJoin,dwsma_code,-1,-1;dwsma_name \"dwsma_name\" true true false 8000 Text 0 0,First,#,institutional_co_SpatialJoin,dwsma_name,0,8000;loc_desc \"loc_desc\" true true false 8000 Text 0 0,First,#,institutional_co_SpatialJoin,loc_desc,0,8000;latitude \"latitude\" true true false 8 Double 0 0,First,#,institutional_co_SpatialJoin,latitude,-1,-1;longitude \"longitude\" true true false 8 Double 0 0,First,#,institutional_co_SpatialJoin,longitude,-1,-1;method_code \"method_code\" true true false 8000 Text 0 0,First,#,institutional_co_SpatialJoin,method_code,0,8000;method_desc \"method_desc\" true true false 8000 Text 0 0,First,#,institutional_co_SpatialJoin,method_desc,0,8000;ref_code \"ref_code\" true true false 8000 Text 0 0,First,#,institutional_co_SpatialJoin,ref_code,0,8000;ref_desc \"ref_desc\" true true false 8000 Text 0 0,First,#,institutional_co_SpatialJoin,ref_desc,0,8000;collection_date \"collection_date\" true true false 8 Date 0 0,First,#,institutional_co_SpatialJoin,collection_date,-1,-1;tmsp_created \"tmsp_created\" true true false 8 Date 0 0,First,#,institutional_co_SpatialJoin,tmsp_created,-1,-1;tmsp_updt \"tmsp_updt\" true true false 8 Date 0 0,First,#,institutional_co_SpatialJoin,tmsp_updt,-1,-1;objectid_12 \"objectid\" true true false 4 Long 0 0,First,#,institutional_co_SpatialJoin,objectid_12,-1,-1;item_id_1 \"item_id\" true true false 8000 Text 0 0,First,#,institutional_co_SpatialJoin,item_id_1,0,8000;ai_id_1 \"ai_id\" true true false 4 Long 0 0,First,#,institutional_co_SpatialJoin,ai_id_1,-1,-1;int_doc_id_1 \"int_doc_id\" true true false 4 Long 0 0,First,#,institutional_co_SpatialJoin,int_doc_id_1,-1,-1;si_type_1 \"si_type\" true true false 8000 Text 0 0,First,#,institutional_co_SpatialJoin,si_type_1,0,8000;si_cat_1 \"si_cat\" true true false 8000 Text 0 0,First,#,institutional_co_SpatialJoin,si_cat_1,0,8000;si_id_1 \"si_id\" true true false 4 Long 0 0,First,#,institutional_co_SpatialJoin,si_id_1,-1,-1;si_cat_desc_1 \"si_cat_desc\" true true false 8000 Text 0 0,First,#,institutional_co_SpatialJoin,si_cat_desc_1,0,8000;si_type_desc_1 \"si_type_desc\" true true false 8000 Text 0 0,First,#,institutional_co_SpatialJoin,si_type_desc_1,0,8000;description \"description\" true true false 8000 Text 0 0,First,#,institutional_co_SpatialJoin,description,0,8000;si_designation \"si_designation\" true true false 8000 Text 0 0,First,#,institutional_co_SpatialJoin,si_designation,0,8000;name \"name\" true true false 8000 Text 0 0,First,#,institutional_co_SpatialJoin,name,0,8000;program \"program\" true true false 8000 Text 0 0,First,#,institutional_co_SpatialJoin,program,0,8000;program_list \"program_list\" true true false 8000 Text 0 0,First,#,institutional_co_SpatialJoin,program_list,0,8000;address \"address\" true true false 8000 Text 0 0,First,#,institutional_co_SpatialJoin,address,0,8000;city \"city\" true true false 8000 Text 0 0,First,#,institutional_co_SpatialJoin,city,0,8000;state \"state\" true true false 8000 Text 0 0,First,#,institutional_co_SpatialJoin,state,0,8000;zip \"zip\" true true false 4 Long 0 0,First,#,institutional_co_SpatialJoin,zip,-1,-1;county_code_1 \"county_code\" true true false 4 Long 0 0,First,#,institutional_co_SpatialJoin,county_code_1,-1,-1;county \"county\" true true false 8000 Text 0 0,First,#,institutional_co_SpatialJoin,county,0,8000;ctu_code_1 \"ctu_code\" true true false 4 Long 0 0,First,#,institutional_co_SpatialJoin,ctu_code_1,-1,-1;ctu_name_1 \"ctu_name\" true true false 8000 Text 0 0,First,#,institutional_co_SpatialJoin,ctu_name_1,0,8000;cong_dist_1 \"cong_dist\" true true false 4 Long 0 0,First,#,institutional_co_SpatialJoin,cong_dist_1,-1,-1;house_dist_1 \"house_dist\" true true false 8000 Text 0 0,First,#,institutional_co_SpatialJoin,house_dist_1,0,8000;senate_dist_1 \"senate_dist\" true true false 4 Long 0 0,First,#,institutional_co_SpatialJoin,senate_dist_1,-1,-1;huc8_1 \"huc8\" true true false 4 Long 0 0,First,#,institutional_co_SpatialJoin,huc8_1,-1,-1;huc8_name_1 \"huc8_name\" true true false 8000 Text 0 0,First,#,institutional_co_SpatialJoin,huc8_name_1,0,8000;huc10_1 \"huc10\" true true false 4 Long 0 0,First,#,institutional_co_SpatialJoin,huc10_1,-1,-1;huc10_name \"huc10_name\" true true false 8000 Text 0 0,First,#,institutional_co_SpatialJoin,huc10_name,0,8000;huc12_1 \"huc12\" true true false 8 Double 0 0,First,#,institutional_co_SpatialJoin,huc12_1,-1,-1;huc12_name_1 \"huc12_name\" true true false 8000 Text 0 0,First,#,institutional_co_SpatialJoin,huc12_name_1,0,8000;dwsma_code_1 \"dwsma_code\" true true false 4 Long 0 0,First,#,institutional_co_SpatialJoin,dwsma_code_1,-1,-1;dwsma_name_1 \"dwsma_name\" true true false 8000 Text 0 0,First,#,institutional_co_SpatialJoin,dwsma_name_1,0,8000;loc_desc_1 \"loc_desc\" true true false 8000 Text 0 0,First,#,institutional_co_SpatialJoin,loc_desc_1,0,8000;trdsqq \"trdsqq\" true true false 8000 Text 0 0,First,#,institutional_co_SpatialJoin,trdsqq,0,8000;pls_twsp \"pls_twsp\" true true false 4 Long 0 0,First,#,institutional_co_SpatialJoin,pls_twsp,-1,-1;range \"range\" true true false 4 Long 0 0,First,#,institutional_co_SpatialJoin,range,-1,-1;range_dir \"range_dir\" true true false 8000 Text 0 0,First,#,institutional_co_SpatialJoin,range_dir,0,8000;section \"section\" true true false 4 Long 0 0,First,#,institutional_co_SpatialJoin,section,-1,-1;quarters \"quarters\" true true false 8000 Text 0 0,First,#,institutional_co_SpatialJoin,quarters,0,8000;latitude_1 \"latitude\" true true false 8 Double 0 0,First,#,institutional_co_SpatialJoin,latitude_1,-1,-1;longitude_1 \"longitude\" true true false 8 Double 0 0,First,#,institutional_co_SpatialJoin,longitude_1,-1,-1;method_code_1 \"method_code\" true true false 8000 Text 0 0,First,#,institutional_co_SpatialJoin,method_code_1,0,8000;method_desc_1 \"method_desc\" true true false 8000 Text 0 0,First,#,institutional_co_SpatialJoin,method_desc_1,0,8000;ref_code_1 \"ref_code\" true true false 8000 Text 0 0,First,#,institutional_co_SpatialJoin,ref_code_1,0,8000;ref_desc_1 \"ref_desc\" true true false 8000 Text 0 0,First,#,institutional_co_SpatialJoin,ref_desc_1,0,8000;verified \"verified\" true true false 8000 Text 0 0,First,#,institutional_co_SpatialJoin,verified,0,8000;collection_date_1 \"collection_date\" true true false 8 Date 0 0,First,#,institutional_co_SpatialJoin,collection_date_1,-1,-1;tmsp_created_1 \"tmsp_created\" true true false 8 Date 0 0,First,#,institutional_co_SpatialJoin,tmsp_created_1,-1,-1;user_created \"user_created\" true true false 8000 Text 0 0,First,#,institutional_co_SpatialJoin,user_created,0,8000;tmsp_updt_1 \"tmsp_updt\" true true false 8 Date 0 0,First,#,institutional_co_SpatialJoin,tmsp_updt_1,-1,-1;user_updt \"user_updt\" true true false 8000 Text 0 0,First,#,institutional_co_SpatialJoin,user_updt,0,8000;status \"status\" true true false 8000 Text 0 0,First,#,institutional_co_SpatialJoin,status,0,8000;status_date \"status_date\" true true false 8 Date 0 0,First,#,institutional_co_SpatialJoin,status_date,-1,-1;spatial_id \"spatial_id\" true true false 4 Long 0 0,First,#,institutional_co_SpatialJoin,spatial_id,-1,-1', None)"
   ]
  },
  {
   "cell_type": "markdown",
   "metadata": {},
   "source": [
    "Display head of table"
   ]
  },
  {
   "cell_type": "code",
   "execution_count": 3,
   "metadata": {},
   "outputs": [
    {
     "data": {
      "text/html": [
       "<div>\n",
       "<style scoped>\n",
       "    .dataframe tbody tr th:only-of-type {\n",
       "        vertical-align: middle;\n",
       "    }\n",
       "\n",
       "    .dataframe tbody tr th {\n",
       "        vertical-align: top;\n",
       "    }\n",
       "\n",
       "    .dataframe thead th {\n",
       "        text-align: right;\n",
       "    }\n",
       "</style>\n",
       "<table border=\"1\" class=\"dataframe\">\n",
       "  <thead>\n",
       "    <tr style=\"text-align: right;\">\n",
       "      <th></th>\n",
       "      <th>Join_Count</th>\n",
       "      <th>TARGET_FID</th>\n",
       "      <th>Latitude</th>\n",
       "      <th>Longitude</th>\n",
       "      <th>Latitude_1</th>\n",
       "      <th>Longitude_</th>\n",
       "      <th>geometry</th>\n",
       "    </tr>\n",
       "  </thead>\n",
       "  <tbody>\n",
       "    <tr>\n",
       "      <th>0</th>\n",
       "      <td>0</td>\n",
       "      <td>1</td>\n",
       "      <td>44.979089</td>\n",
       "      <td>-93.234837</td>\n",
       "      <td>0.0</td>\n",
       "      <td>0.0</td>\n",
       "      <td>POINT (-93.23484 44.97909)</td>\n",
       "    </tr>\n",
       "  </tbody>\n",
       "</table>\n",
       "</div>"
      ],
      "text/plain": [
       "   Join_Count  TARGET_FID  ...  Longitude_                    geometry\n",
       "0           0           1  ...         0.0  POINT (-93.23484 44.97909)\n",
       "\n",
       "[1 rows x 7 columns]"
      ]
     },
     "execution_count": 3,
     "metadata": {},
     "output_type": "execute_result"
    }
   ],
   "source": [
    "spatialjoined = r'C:\\Users\\wang8837\\Documents\\ArcGIS\\Projects\\lab1\\spatialjoiend.shp'\n",
    "gpd.read_file(spatialjoined)"
   ]
  },
  {
   "cell_type": "markdown",
   "metadata": {},
   "source": [
    "Export to Geodatabase"
   ]
  },
  {
   "cell_type": "code",
   "execution_count": 38,
   "metadata": {},
   "outputs": [
    {
     "data": {
      "text/html": [
       "<div class='gpresult'><h2>Messages</h2><div id='messages' data-messages='[\"Start Time: Monday, October 3, 2022 12:08:19 AM\",\"institutional__ExportFeature Successfully converted:  C:\\\\Users\\\\wang1\\\\Documents\\\\ArcGIS\\\\Projects\\\\lab1\\\\lab1.gdb\\\\institutional__ExportFeature\",\"Succeeded at Monday, October 3, 2022 12:08:20 AM (Elapsed Time: 1.16 seconds)\"]' data-show='true'><div id = 'default' /></div></div>"
      ],
      "text/plain": [
       "<Result 'C:\\\\Users\\\\wang1\\\\Documents\\\\ArcGIS\\\\Projects\\\\lab1\\\\lab1.gdb'>"
      ]
     },
     "execution_count": 38,
     "metadata": {},
     "output_type": "execute_result"
    }
   ],
   "source": [
    "arcpy.conversion.FeatureClassToGeodatabase(\"institutional__ExportFeature\", r\"C:\\Users\\wang1\\Documents\\ArcGIS\\Projects\\lab1\\lab1.gdb\")"
   ]
  },
  {
   "cell_type": "markdown",
   "metadata": {},
   "source": [
    "# Google API data"
   ]
  },
  {
   "cell_type": "code",
   "execution_count": 35,
   "metadata": {},
   "outputs": [],
   "source": [
    "MY_API_KEY = ''"
   ]
  },
  {
   "cell_type": "code",
   "execution_count": null,
   "metadata": {},
   "outputs": [],
   "source": [
    "url1 = \"https://maps.googleapis.com/maps/api/place/details/json?place_id=ChIJ9xuqBjsts1IR0AcbOIzg3ZU&fields=name%2Crating%2Cformatted_phone_number%2Cgeometry&key=\"\n",
    "url2 = \"https://maps.googleapis.com/maps/api/place/details/json?place_id=ChIJ2eJr9jwts1IRxE3asV1uDSc&fields=name%2Crating%2Cformatted_phone_number%2Cgeometry&key=\"\n",
    "\n",
    "file_name1 = r'C:\\Users\\wang8837\\Documents\\ArcGIS\\Projects\\lab1\\place1_detail.json'\n",
    "file_name2 = r'C:\\Users\\wang8837\\Documents\\ArcGIS\\Projects\\lab1\\place2_detail.json'\n",
    "\n",
    "def download_json(url,file_name):\n",
    "    response1 = requests.get(url)\n",
    "    with open (file_name,'wb') as f:\n",
    "        f.write(response1.content)\n",
    "    \n",
    "download_json(url1,file_name1)\n",
    "download_json(url2,file_name2)"
   ]
  },
  {
   "cell_type": "code",
   "execution_count": null,
   "metadata": {},
   "outputs": [],
   "source": [
    "csv1 = r'C:\\Users\\wang8837\\Documents\\ArcGIS\\Projects\\lab1\\location1.csv'\n",
    "csv2 = r'C:\\Users\\wang8837\\Documents\\ArcGIS\\Projects\\lab1\\location2.csv'"
   ]
  },
  {
   "cell_type": "code",
   "execution_count": null,
   "metadata": {},
   "outputs": [],
   "source": [
    "json1 = r'C:\\Users\\wang8837\\Documents\\ArcGIS\\Projects\\lab1\\place1_detail.json'\n",
    "json2 = r'C:\\Users\\wang8837\\Documents\\ArcGIS\\Projects\\lab1\\place2_detail.json'"
   ]
  },
  {
   "cell_type": "code",
   "execution_count": null,
   "metadata": {},
   "outputs": [],
   "source": [
    "with open (r'C:\\Users\\wang8837\\Documents\\ArcGIS\\Projects\\lab1\\place1_detail.json','r') as r:\n",
    "    data1 = json.load(r)\n",
    "with open (r'C:\\Users\\wang8837\\Documents\\ArcGIS\\Projects\\lab1\\place2_detail.json','r') as r2:\n",
    "    data2 = json.load(r2)"
   ]
  },
  {
   "cell_type": "code",
   "execution_count": null,
   "metadata": {},
   "outputs": [],
   "source": [
    "location1 = []\n",
    "location2 = []\n",
    "def convert_json_from_google_to_list(location, data):\n",
    "    location.append(data['result']['geometry']['location'])\n",
    "\n",
    "convert_json_from_google_to_list(location1, data1)\n",
    "convert_json_from_google_to_list(location2, data2)"
   ]
  },
  {
   "cell_type": "code",
   "execution_count": null,
   "metadata": {},
   "outputs": [],
   "source": [
    "def convert_list_to_csv(csva,location):\n",
    "    csv_columns = [\"lat\",\"lng\"]\n",
    "    with open (csva,'w') as csvfile:\n",
    "        writer = csv.DictWriter(csvfile, fieldnames = csv_columns)\n",
    "        writer.writeheader()\n",
    "        writer.writerows(location)\n",
    "        \n",
    "convert_list_to_csv(csv1,location1)\n",
    "convert_list_to_csv(csv2,location2)"
   ]
  },
  {
   "cell_type": "markdown",
   "metadata": {},
   "source": [
    "Define Coordinate system"
   ]
  },
  {
   "cell_type": "code",
   "execution_count": 116,
   "metadata": {},
   "outputs": [
    {
     "data": {
      "text/html": [
       "<div class='gpresult'><h2>Messages</h2><div id='messages' data-messages='[\"Start Time: Monday, October 3, 2022 12:25:58 PM\",\"Succeeded at Monday, October 3, 2022 12:25:59 PM (Elapsed Time: 0.92 seconds)\"]' data-show='true'><div id = 'default' /></div></div>"
      ],
      "text/plain": [
       "<Result 'C:\\\\Users\\\\wang1\\\\Documents\\\\ArcGIS\\\\Projects\\\\lab1\\\\lab1.gdb\\\\location1_XYTableToPoint5'>"
      ]
     },
     "execution_count": 116,
     "metadata": {},
     "output_type": "execute_result"
    }
   ],
   "source": [
    "arcpy.management.XYTableToPoint(\"location1.csv\", r\"C:\\Users\\wang1\\Documents\\ArcGIS\\Projects\\lab1\\lab1.gdb\\location1_XYTableToPoint5\", \"Longitude\", \"Latitude\", None, 'GEOGCS[\"GCS_WGS_1984\",DATUM[\"D_WGS_1984\",SPHEROID[\"WGS_1984\",6378137.0,298.257223563]],PRIMEM[\"Greenwich\",0.0],UNIT[\"Degree\",0.0174532925199433]];-400 -400 1000000000;-100000 10000;-100000 10000;8.98315284119521E-09;0.001;0.001;IsHighPrecision')"
   ]
  },
  {
   "cell_type": "code",
   "execution_count": 117,
   "metadata": {},
   "outputs": [
    {
     "data": {
      "text/html": [
       "<div class='gpresult'><h2>Messages</h2><div id='messages' data-messages='[\"Start Time: Monday, October 3, 2022 12:26:58 PM\",\"Succeeded at Monday, October 3, 2022 12:26:59 PM (Elapsed Time: 0.91 seconds)\"]' data-show='true'><div id = 'default' /></div></div>"
      ],
      "text/plain": [
       "<Result 'C:\\\\Users\\\\wang1\\\\Documents\\\\ArcGIS\\\\Projects\\\\lab1\\\\lab1.gdb\\\\location2_XYTableToPoint1'>"
      ]
     },
     "execution_count": 117,
     "metadata": {},
     "output_type": "execute_result"
    }
   ],
   "source": [
    "arcpy.management.XYTableToPoint(\"location2.csv\", r\"C:\\Users\\wang1\\Documents\\ArcGIS\\Projects\\lab1\\lab1.gdb\\location2_XYTableToPoint1\", \"Longitude\", \"Latitude\", None, 'GEOGCS[\"GCS_WGS_1984\",DATUM[\"D_WGS_1984\",SPHEROID[\"WGS_1984\",6378137.0,298.257223563]],PRIMEM[\"Greenwich\",0.0],UNIT[\"Degree\",0.0174532925199433]];-400 -400 1000000000;-100000 10000;-100000 10000;8.98315284119521E-09;0.001;0.001;IsHighPrecision')"
   ]
  },
  {
   "cell_type": "code",
   "execution_count": 118,
   "metadata": {},
   "outputs": [
    {
     "data": {
      "text/html": [
       "<div class='gpresult'><h2>Messages</h2><div id='messages' data-messages='[\"Start Time: Monday, October 3, 2022 12:27:26 PM\",\"Succeeded at Monday, October 3, 2022 12:27:26 PM (Elapsed Time: 0.05 seconds)\"]' data-show='true'><div id = 'default' /></div></div>"
      ],
      "text/plain": [
       "<Result 'location1_XYTableToPoint5'>"
      ]
     },
     "execution_count": 118,
     "metadata": {},
     "output_type": "execute_result"
    }
   ],
   "source": [
    "arcpy.management.DefineProjection(\"location1_XYTableToPoint5\", 'GEOGCS[\"GCS_WGS_1984\",DATUM[\"D_WGS_1984\",SPHEROID[\"WGS_1984\",6378137.0,298.257223563]],PRIMEM[\"Greenwich\",0.0],UNIT[\"Degree\",0.0174532925199433]]')"
   ]
  },
  {
   "cell_type": "code",
   "execution_count": 119,
   "metadata": {},
   "outputs": [
    {
     "data": {
      "text/html": [
       "<div class='gpresult'><h2>Messages</h2><div id='messages' data-messages='[\"Start Time: Monday, October 3, 2022 12:27:50 PM\",\"Succeeded at Monday, October 3, 2022 12:27:50 PM (Elapsed Time: 0.04 seconds)\"]' data-show='true'><div id = 'default' /></div></div>"
      ],
      "text/plain": [
       "<Result 'location2_XYTableToPoint1'>"
      ]
     },
     "execution_count": 119,
     "metadata": {},
     "output_type": "execute_result"
    }
   ],
   "source": [
    "arcpy.management.DefineProjection(\"location2_XYTableToPoint1\", 'GEOGCS[\"GCS_WGS_1984\",DATUM[\"D_WGS_1984\",SPHEROID[\"WGS_1984\",6378137.0,298.257223563]],PRIMEM[\"Greenwich\",0.0],UNIT[\"Degree\",0.0174532925199433]]')"
   ]
  },
  {
   "cell_type": "markdown",
   "metadata": {},
   "source": [
    "Spatial Join"
   ]
  },
  {
   "cell_type": "code",
   "execution_count": 120,
   "metadata": {},
   "outputs": [
    {
     "data": {
      "text/html": [
       "<div class='gpresult'><h2>Messages</h2><div id='messages' data-messages='[\"Start Time: Monday, October 3, 2022 12:28:09 PM\",\"Succeeded at Monday, October 3, 2022 12:28:09 PM (Elapsed Time: 0.29 seconds)\"]' data-show='true'><div id = 'default' /></div></div>"
      ],
      "text/plain": [
       "<Result 'C:\\\\Users\\\\wang1\\\\Documents\\\\ArcGIS\\\\Projects\\\\lab1\\\\lab1.gdb\\\\location1_XYTabl_SpatialJoin'>"
      ]
     },
     "execution_count": 120,
     "metadata": {},
     "output_type": "execute_result"
    }
   ],
   "source": [
    "arcpy.analysis.SpatialJoin(\"location1_XYTableToPoint5\", \"location2_XYTableToPoint1\", r\"C:\\Users\\wang1\\Documents\\ArcGIS\\Projects\\lab1\\lab1.gdb\\location1_XYTabl_SpatialJoin\", \"JOIN_ONE_TO_ONE\", \"KEEP_ALL\", 'Latitude \"Latitude\" true true false 8 Double 0 0,First,#,location1_XYTableToPoint5,Latitude,-1,-1;Longitude \"Longitude\" true true false 8 Double 0 0,First,#,location1_XYTableToPoint5,Longitude,-1,-1;Latitude_1 \"Latitude\" true true false 8 Double 0 0,First,#,location2_XYTableToPoint1,Latitude,-1,-1;Longitude_1 \"Longitude\" true true false 8 Double 0 0,First,#,location2_XYTableToPoint1,Longitude,-1,-1', \"INTERSECT\", None, '')"
   ]
  },
  {
   "cell_type": "markdown",
   "metadata": {},
   "source": [
    "Export feature"
   ]
  },
  {
   "cell_type": "code",
   "execution_count": 121,
   "metadata": {},
   "outputs": [
    {
     "data": {
      "text/html": [
       "<div class='gpresult'><h2>Messages</h2><div id='messages' data-messages='[\"Start Time: Monday, October 3, 2022 12:29:25 PM\",\"Succeeded at Monday, October 3, 2022 12:29:25 PM (Elapsed Time: 0.28 seconds)\"]' data-show='true'><div id = 'default' /></div></div>"
      ],
      "text/plain": [
       "<Result 'C:\\\\Users\\\\wang1\\\\Documents\\\\ArcGIS\\\\Projects\\\\lab1\\\\exported.shp'>"
      ]
     },
     "execution_count": 121,
     "metadata": {},
     "output_type": "execute_result"
    }
   ],
   "source": [
    "arcpy.conversion.ExportFeatures(\"location1_XYTabl_SpatialJoin\", r\"C:\\Users\\wang1\\Documents\\ArcGIS\\Projects\\lab1\\exported.shp\", '', \"NOT_USE_ALIAS\", 'Join_Count \"Join_Count\" true true false 4 Long 0 0,First,#,location1_XYTabl_SpatialJoin,Join_Count,-1,-1;TARGET_FID \"TARGET_FID\" true true false 4 Long 0 0,First,#,location1_XYTabl_SpatialJoin,TARGET_FID,-1,-1;Latitude \"Latitude\" true true false 8 Double 0 0,First,#,location1_XYTabl_SpatialJoin,Latitude,-1,-1;Longitude \"Longitude\" true true false 8 Double 0 0,First,#,location1_XYTabl_SpatialJoin,Longitude,-1,-1;Latitude_1 \"Latitude\" true true false 8 Double 0 0,First,#,location1_XYTabl_SpatialJoin,Latitude_1,-1,-1;Longitude_1 \"Longitude\" true true false 8 Double 0 0,First,#,location1_XYTabl_SpatialJoin,Longitude_1,-1,-1', None)"
   ]
  },
  {
   "cell_type": "markdown",
   "metadata": {},
   "source": [
    "display attribute head table"
   ]
  },
  {
   "cell_type": "code",
   "execution_count": null,
   "metadata": {},
   "outputs": [],
   "source": [
    "spatialjoined2 = r\"C:\\Users\\wang8837\\Documents\\ArcGIS\\Projects\\lab1\\location_SpatialJoin.shp\"\n",
    "gpd.read_file(spatialjoined2)"
   ]
  },
  {
   "cell_type": "markdown",
   "metadata": {},
   "source": [
    "export to geodatabase"
   ]
  },
  {
   "cell_type": "code",
   "execution_count": 124,
   "metadata": {},
   "outputs": [
    {
     "data": {
      "text/html": [
       "<div class='gpresult'><h2>Messages</h2><div id='messages' data-messages='[\"Start Time: Monday, October 3, 2022 12:31:02 PM\",\"exported Successfully converted:  C:\\\\Users\\\\wang1\\\\Documents\\\\ArcGIS\\\\Projects\\\\lab1\\\\lab1.gdb\\\\exported\",\"Succeeded at Monday, October 3, 2022 12:31:03 PM (Elapsed Time: 1.05 seconds)\"]' data-show='true'><div id = 'default' /></div></div>"
      ],
      "text/plain": [
       "<Result 'C:\\\\Users\\\\wang1\\\\Documents\\\\ArcGIS\\\\Projects\\\\lab1\\\\lab1.gdb'>"
      ]
     },
     "execution_count": 124,
     "metadata": {},
     "output_type": "execute_result"
    }
   ],
   "source": [
    "arcpy.conversion.FeatureClassToGeodatabase(\"exported\", r\"C:\\Users\\wang1\\Documents\\ArcGIS\\Projects\\lab1\\lab1.gdb\")"
   ]
  },
  {
   "cell_type": "markdown",
   "metadata": {},
   "source": [
    "# NDAWN\n"
   ]
  },
  {
   "cell_type": "code",
   "execution_count": null,
   "metadata": {},
   "outputs": [],
   "source": [
    "url3 = \"https://ndawn.ndsu.nodak.edu/table.csv?station=26&begin_date=2022-10-02&end_date=2022-10-02&quick_pick=4_w&ttype=hourly&variable=hdt\"\n",
    "url4 = \"https://ndawn.ndsu.nodak.edu/table.csv?station=161&variable=wdmxws&ttype=weekly&quick_pick=&begin_date=2022-09-25&count=1\"\n",
    "NDAWN_CSV1 = r\"C:\\Users\\wang8837\\Documents\\ArcGIS\\Projects\\lab1\\place3.csv\"\n",
    "NDAWN_CSV2 = r'C:\\Users\\wang8837\\Documents\\ArcGIS\\Projects\\lab1\\place4.csv'"
   ]
  },
  {
   "cell_type": "code",
   "execution_count": null,
   "metadata": {},
   "outputs": [],
   "source": [
    "def get_data_from_NDAWN(csv_file,url):\n",
    "    response = requests.get(url)\n",
    "    with open (csv_file,'wb') as f:\n",
    "        f.write(response.content)\n",
    "        \n",
    "get_data_from_NDAWN(NDAWN_CSV1,url3)\n",
    "get_data_from_NDAWN(NDAWN_CSV2,url4)"
   ]
  },
  {
   "cell_type": "code",
   "execution_count": null,
   "metadata": {},
   "outputs": [],
   "source": [
    "ndawnlist=[]\n",
    "ndawnlist2=[]\n",
    "def transform_ndawn_to_sth(csv_files,ndawnlist):\n",
    "    with open(csv_files, 'r') as file:\n",
    "        csvreader = csv.reader(file)\n",
    "        for row in csvreader:\n",
    "            ndawnlist.append(row)\n",
    "            \n",
    "transform_ndawn_to_sth(NDAWN_CSV1,ndawnlist)\n",
    "transform_ndawn_to_sth(NDAWN_CSV2,ndawnlist2)"
   ]
  },
  {
   "cell_type": "code",
   "execution_count": null,
   "metadata": {},
   "outputs": [],
   "source": [
    "ndawnlist2[5][1]"
   ]
  },
  {
   "cell_type": "code",
   "execution_count": null,
   "metadata": {},
   "outputs": [],
   "source": [
    "ndawnlist2[5][2]"
   ]
  },
  {
   "cell_type": "code",
   "execution_count": null,
   "metadata": {},
   "outputs": [],
   "source": [
    "csv_columns2 = [\"Latitude\",\"Longitude\"]\n",
    "location3 = [{'Latitude': '47.04639', 'Longitude': '-97.06685'}]\n",
    "with open (r'C:\\Users\\wang8837\\Documents\\ArcGIS\\Projects\\lab1\\location3.csv','w') as csvfile:\n",
    "    writer = csv.DictWriter(csvfile, fieldnames = csv_columns2)\n",
    "    writer.writeheader()\n",
    "    writer.writerows(location3)"
   ]
  },
  {
   "cell_type": "code",
   "execution_count": null,
   "metadata": {},
   "outputs": [],
   "source": [
    "ndawnlist[5][1]"
   ]
  },
  {
   "cell_type": "code",
   "execution_count": null,
   "metadata": {},
   "outputs": [],
   "source": [
    "ndawnlist[5][2]"
   ]
  },
  {
   "cell_type": "code",
   "execution_count": null,
   "metadata": {},
   "outputs": [],
   "source": [
    "csv_columns3 = [\"Latitude\",\"Longitude\"]\n",
    "location4 = [{'Latitude': '47.83634', 'Longitude': '-97.06685'}]\n",
    "with open (r'C:\\Users\\wang8837\\Documents\\ArcGIS\\Projects\\lab1\\location4.csv','w') as csvfile:\n",
    "    writer = csv.DictWriter(csvfile, fieldnames = csv_columns3)\n",
    "    writer.writeheader()\n",
    "    writer.writerows(location4)"
   ]
  },
  {
   "cell_type": "code",
   "execution_count": 167,
   "metadata": {},
   "outputs": [
    {
     "data": {
      "text/html": [
       "<div class='gpresult'><h2>Messages</h2><div id='messages' data-messages='[\"Start Time: Monday, October 3, 2022 1:08:21 PM\",\"Succeeded at Monday, October 3, 2022 1:08:22 PM (Elapsed Time: 1.00 seconds)\"]' data-show='true'><div id = 'default' /></div></div>"
      ],
      "text/plain": [
       "<Result 'C:\\\\Users\\\\wang1\\\\Documents\\\\ArcGIS\\\\Projects\\\\lab1\\\\lab1.gdb\\\\location_XYTableToPoint'>"
      ]
     },
     "execution_count": 167,
     "metadata": {},
     "output_type": "execute_result"
    }
   ],
   "source": [
    "arcpy.management.XYTableToPoint(\"location3.csv\", r\"C:\\Users\\wang1\\Documents\\ArcGIS\\Projects\\lab1\\lab1.gdb\\location3_XYTableToPoint\", \"Longitude\", \"Latitude\", None, 'GEOGCS[\"GCS_WGS_1984\",DATUM[\"D_WGS_1984\",SPHEROID[\"WGS_1984\",6378137.0,298.257223563]],PRIMEM[\"Greenwich\",0.0],UNIT[\"Degree\",0.0174532925199433]];-400 -400 1000000000;-100000 10000;-100000 10000;8.98315284119521E-09;0.001;0.001;IsHighPrecision')\n",
    "arcpy.management.XYTableToPoint(\"location.4.csv\", r\"C:\\Users\\wang1\\Documents\\ArcGIS\\Projects\\lab1\\lab1.gdb\\location_XYTableToPoint\", \"Longitude\", \"Latitude\", None, 'GEOGCS[\"GCS_WGS_1984\",DATUM[\"D_WGS_1984\",SPHEROID[\"WGS_1984\",6378137.0,298.257223563]],PRIMEM[\"Greenwich\",0.0],UNIT[\"Degree\",0.0174532925199433]];-400 -400 1000000000;-100000 10000;-100000 10000;8.98315284119521E-09;0.001;0.001;IsHighPrecision')"
   ]
  },
  {
   "cell_type": "code",
   "execution_count": 168,
   "metadata": {},
   "outputs": [
    {
     "data": {
      "text/html": [
       "<div class='gpresult'><h2>Messages</h2><div id='messages' data-messages='[\"Start Time: Monday, October 3, 2022 1:08:50 PM\",\"Succeeded at Monday, October 3, 2022 1:08:50 PM (Elapsed Time: 0.05 seconds)\"]' data-show='true'><div id = 'default' /></div></div>"
      ],
      "text/plain": [
       "<Result 'location_XYTableToPoint'>"
      ]
     },
     "execution_count": 168,
     "metadata": {},
     "output_type": "execute_result"
    }
   ],
   "source": [
    "arcpy.management.DefineProjection(\"location3_XYTableToPoint\", 'GEOGCS[\"GCS_WGS_1984\",DATUM[\"D_WGS_1984\",SPHEROID[\"WGS_1984\",6378137.0,298.257223563]],PRIMEM[\"Greenwich\",0.0],UNIT[\"Degree\",0.0174532925199433]]')\n",
    "arcpy.management.DefineProjection(\"location_XYTableToPoint\", 'GEOGCS[\"GCS_WGS_1984\",DATUM[\"D_WGS_1984\",SPHEROID[\"WGS_1984\",6378137.0,298.257223563]],PRIMEM[\"Greenwich\",0.0],UNIT[\"Degree\",0.0174532925199433]]')"
   ]
  },
  {
   "cell_type": "code",
   "execution_count": 169,
   "metadata": {},
   "outputs": [
    {
     "data": {
      "text/html": [
       "<div class='gpresult'><h2>Messages</h2><div id='messages' data-messages='[\"Start Time: Monday, October 3, 2022 1:09:06 PM\",\"Succeeded at Monday, October 3, 2022 1:09:06 PM (Elapsed Time: 0.29 seconds)\"]' data-show='true'><div id = 'default' /></div></div>"
      ],
      "text/plain": [
       "<Result 'C:\\\\Users\\\\wang1\\\\Documents\\\\ArcGIS\\\\Projects\\\\lab1\\\\lab1.gdb\\\\location3_XYTabl_SpatialJoin'>"
      ]
     },
     "execution_count": 169,
     "metadata": {},
     "output_type": "execute_result"
    }
   ],
   "source": [
    "arcpy.analysis.SpatialJoin(\"location3_XYTableToPoint\", \"location_XYTableToPoint\", r\"C:\\Users\\wang1\\Documents\\ArcGIS\\Projects\\lab1\\lab1.gdb\\location3_XYTabl_SpatialJoin\", \"JOIN_ONE_TO_ONE\", \"KEEP_ALL\", 'Latitude \"Latitude\" true true false 8 Double 0 0,First,#,location3_XYTableToPoint,Latitude,-1,-1;Longitude \"Longitude\" true true false 8 Double 0 0,First,#,location3_XYTableToPoint,Longitude,-1,-1;Latitude_1 \"Latitude\" true true false 8 Double 0 0,First,#,location_XYTableToPoint,Latitude,-1,-1;Longitude_1 \"Longitude\" true true false 8 Double 0 0,First,#,location_XYTableToPoint,Longitude,-1,-1', \"INTERSECT\", None, '')"
   ]
  },
  {
   "cell_type": "code",
   "execution_count": 170,
   "metadata": {},
   "outputs": [
    {
     "data": {
      "text/html": [
       "<div class='gpresult'><h2>Messages</h2><div id='messages' data-messages='[\"Start Time: Monday, October 3, 2022 1:09:59 PM\",\"Succeeded at Monday, October 3, 2022 1:09:59 PM (Elapsed Time: 0.27 seconds)\"]' data-show='true'><div id = 'default' /></div></div>"
      ],
      "text/plain": [
       "<Result 'C:\\\\Users\\\\wang1\\\\Documents\\\\ArcGIS\\\\Projects\\\\lab1\\\\location3_XYTa_ExportFeature.shp'>"
      ]
     },
     "execution_count": 170,
     "metadata": {},
     "output_type": "execute_result"
    }
   ],
   "source": [
    "arcpy.conversion.ExportFeatures(\"location3_XYTabl_SpatialJoin\", r\"C:\\Users\\wang1\\Documents\\ArcGIS\\Projects\\lab1\\location3_XYTa_ExportFeature.shp\", '', \"NOT_USE_ALIAS\", 'Join_Count \"Join_Count\" true true false 4 Long 0 0,First,#,location3_XYTabl_SpatialJoin,Join_Count,-1,-1;TARGET_FID \"TARGET_FID\" true true false 4 Long 0 0,First,#,location3_XYTabl_SpatialJoin,TARGET_FID,-1,-1;Latitude \"Latitude\" true true false 8 Double 0 0,First,#,location3_XYTabl_SpatialJoin,Latitude,-1,-1;Longitude \"Longitude\" true true false 8 Double 0 0,First,#,location3_XYTabl_SpatialJoin,Longitude,-1,-1;Latitude_1 \"Latitude\" true true false 8 Double 0 0,First,#,location3_XYTabl_SpatialJoin,Latitude_1,-1,-1;Longitude_1 \"Longitude\" true true false 8 Double 0 0,First,#,location3_XYTabl_SpatialJoin,Longitude_1,-1,-1', None)"
   ]
  },
  {
   "cell_type": "code",
   "execution_count": 171,
   "metadata": {},
   "outputs": [
    {
     "name": "stdout",
     "output_type": "stream",
     "text": [
      "['FID', 'Shape', 'Join_Count', 'TARGET_FID', 'Latitude', 'Longitude', 'Latitude_1', 'Longitude_']\n"
     ]
    }
   ],
   "source": [
    "spatialjoined2 = r\"C:\\Users\\wang8837\\Documents\\ArcGIS\\Projects\\lab1\\location_SpatialJoin.shp\"\n",
    "gpd.read_file(spatialjoined2)"
   ]
  },
  {
   "cell_type": "code",
   "execution_count": 172,
   "metadata": {},
   "outputs": [
    {
     "data": {
      "text/html": [
       "<div class='gpresult'><h2>Messages</h2><div id='messages' data-messages='[\"Start Time: Monday, October 3, 2022 1:10:36 PM\",\"location3_XYTa_ExportFeature Successfully converted:  C:\\\\Users\\\\wang1\\\\Documents\\\\ArcGIS\\\\Projects\\\\lab1\\\\lab1.gdb\\\\location3_XYTa_ExportFeature\",\"Succeeded at Monday, October 3, 2022 1:10:37 PM (Elapsed Time: 1.01 seconds)\"]' data-show='true'><div id = 'default' /></div></div>"
      ],
      "text/plain": [
       "<Result 'C:\\\\Users\\\\wang1\\\\Documents\\\\ArcGIS\\\\Projects\\\\lab1\\\\lab1.gdb'>"
      ]
     },
     "execution_count": 172,
     "metadata": {},
     "output_type": "execute_result"
    }
   ],
   "source": [
    "arcpy.conversion.FeatureClassToGeodatabase(\"location3_XYTa_ExportFeature\", r\"C:\\Users\\wang1\\Documents\\ArcGIS\\Projects\\lab1\\lab1.gdb\")"
   ]
  },
  {
   "cell_type": "code",
   "execution_count": null,
   "metadata": {},
   "outputs": [],
   "source": []
  }
 ],
 "metadata": {
  "kernelspec": {
   "display_name": "ArcGISPro",
   "language": "Python",
   "name": "python3"
  },
  "language_info": {
   "file_extension": ".py",
   "name": "python",
   "version": "3"
  }
 },
 "nbformat": 4,
 "nbformat_minor": 2
}
